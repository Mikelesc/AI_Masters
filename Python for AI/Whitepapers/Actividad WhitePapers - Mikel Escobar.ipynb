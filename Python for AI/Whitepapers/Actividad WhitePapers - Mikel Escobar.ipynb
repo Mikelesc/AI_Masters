{
 "cells": [
  {
   "cell_type": "markdown",
   "id": "3b999108",
   "metadata": {},
   "source": [
    "<img src=\"https://assets.fontsinuse.com/static/use-media-items/140/139698/full-1242x678/60acff7f/Logo.png\" width=\"200\">\n",
    "\n",
    "# 01MIAR - Actividad WhitePapers\n",
    "### Alumno: Mikel Escobar de Carlos"
   ]
  },
  {
   "cell_type": "markdown",
   "id": "61c391fc",
   "metadata": {},
   "source": [
    "## Artículo 01\n",
    "\n",
    "### The NumPy array: a structure for efficient numerical computation\n",
    "Van Der Walt, S., Colbert, S. C., &amp; Varoquaux, G. (2011). The NumPy array: A\n",
    "structure for efficient numerical computation. Computing in Science and\n",
    "Engineering, 13(2), 22-30."
   ]
  },
  {
   "cell_type": "code",
   "execution_count": 1,
   "id": "fc3e83b0",
   "metadata": {},
   "outputs": [],
   "source": [
    "import numpy as np"
   ]
  },
  {
   "cell_type": "markdown",
   "id": "51961ca1",
   "metadata": {},
   "source": [
    "# Broadcasting"
   ]
  },
  {
   "cell_type": "markdown",
   "id": "a17b1201",
   "metadata": {},
   "source": [
    "**Se hace una breve introducción al Broadcasting como técnica que usa NumPy para realizar operaciones artiméticas sobre dos o más arrays con distintas dimensiones.**\n",
    "\n",
    "**Actividad 01.01 - Ampliar dicha explicación, aportando posibles restricciones o limitaciones a dicho sistema y ejemplos propios de los casos de uso.**"
   ]
  },
  {
   "cell_type": "markdown",
   "id": "ef44986c",
   "metadata": {},
   "source": [
    "Como bien dice el enunciado, el **broadcasting** es la estrategia que sigue Numpy para permitirnos realizar operaciones entre arrays de distintas dimensiones. Esto además posibilita vectorizar las operaciones entre matrices y que los bucles se ejecuten en C en vez de en Python, lo cual reduce considerablemente el tiempo de computación como muestra el artículo."
   ]
  },
  {
   "cell_type": "markdown",
   "id": "3c0871b2",
   "metadata": {},
   "source": [
    "El ejemplo de broadcasting más sencillo sería el multiplicar un escalar por un vector:"
   ]
  },
  {
   "cell_type": "code",
   "execution_count": 2,
   "id": "443dc9f4",
   "metadata": {},
   "outputs": [
    {
     "data": {
      "text/plain": [
       "array([ 5, 10, 15, 20])"
      ]
     },
     "execution_count": 2,
     "metadata": {},
     "output_type": "execute_result"
    }
   ],
   "source": [
    "a = np.array([1,2,3,4])\n",
    "b = 5\n",
    "b * a "
   ]
  },
  {
   "cell_type": "markdown",
   "id": "51f350ce",
   "metadata": {},
   "source": [
    "Estamos conceptualmente \"estirando\" b a un vector de forma (1,4) tal que [5,5,5,5] de manera que las dimensiones coincidan.\n",
    "\n",
    "**Para que esto sea posible necesitamos que las dimensiones finales de nuestros arrays coincidan, aunque no tengan el mismo número, o en su defecto que una de ellas sea 1.** Es decir, podemos hacer operaciones entre:"
   ]
  },
  {
   "cell_type": "code",
   "execution_count": 3,
   "id": "78a67a6b",
   "metadata": {},
   "outputs": [
    {
     "data": {
      "text/plain": [
       "array([[[14, 32],\n",
       "        [30, 28]],\n",
       "\n",
       "       [[28, 24],\n",
       "        [10, 36]],\n",
       "\n",
       "       [[42, 56],\n",
       "        [45, 28]]])"
      ]
     },
     "execution_count": 3,
     "metadata": {},
     "output_type": "execute_result"
    }
   ],
   "source": [
    "c = np.random.randint(low=1, high=10, size=(3,2,2))\n",
    "d = np.random.randint(low=1, high=10, size=(2,2))\n",
    "d * c"
   ]
  },
  {
   "cell_type": "markdown",
   "id": "2fd0dd56",
   "metadata": {},
   "source": [
    "En este caso tenemos las dos dimensiones (2,2) que son las finales de c y coinciden con las de d, por lo que se hace broadcasting a la tercera dimensión. Sin embargo **NO** podemos operar entre:"
   ]
  },
  {
   "cell_type": "code",
   "execution_count": 4,
   "id": "1664c6bf",
   "metadata": {},
   "outputs": [
    {
     "ename": "ValueError",
     "evalue": "operands could not be broadcast together with shapes (2,2) (2,2,3) ",
     "output_type": "error",
     "traceback": [
      "\u001b[1;31m---------------------------------------------------------------------------\u001b[0m",
      "\u001b[1;31mValueError\u001b[0m                                Traceback (most recent call last)",
      "\u001b[1;32m~\\AppData\\Local\\Temp/ipykernel_2356/162182896.py\u001b[0m in \u001b[0;36m<module>\u001b[1;34m\u001b[0m\n\u001b[0;32m      1\u001b[0m \u001b[0mc\u001b[0m \u001b[1;33m=\u001b[0m \u001b[0mnp\u001b[0m\u001b[1;33m.\u001b[0m\u001b[0mrandom\u001b[0m\u001b[1;33m.\u001b[0m\u001b[0mrandint\u001b[0m\u001b[1;33m(\u001b[0m\u001b[0mlow\u001b[0m\u001b[1;33m=\u001b[0m\u001b[1;36m1\u001b[0m\u001b[1;33m,\u001b[0m\u001b[0mhigh\u001b[0m\u001b[1;33m=\u001b[0m\u001b[1;36m10\u001b[0m\u001b[1;33m,\u001b[0m\u001b[0msize\u001b[0m\u001b[1;33m=\u001b[0m\u001b[1;33m(\u001b[0m\u001b[1;36m2\u001b[0m\u001b[1;33m,\u001b[0m\u001b[1;36m2\u001b[0m\u001b[1;33m,\u001b[0m\u001b[1;36m3\u001b[0m\u001b[1;33m)\u001b[0m\u001b[1;33m)\u001b[0m\u001b[1;33m\u001b[0m\u001b[1;33m\u001b[0m\u001b[0m\n\u001b[0;32m      2\u001b[0m \u001b[0md\u001b[0m \u001b[1;33m=\u001b[0m \u001b[0mnp\u001b[0m\u001b[1;33m.\u001b[0m\u001b[0mrandom\u001b[0m\u001b[1;33m.\u001b[0m\u001b[0mrandint\u001b[0m\u001b[1;33m(\u001b[0m\u001b[0mlow\u001b[0m\u001b[1;33m=\u001b[0m\u001b[1;36m1\u001b[0m\u001b[1;33m,\u001b[0m\u001b[0mhigh\u001b[0m\u001b[1;33m=\u001b[0m\u001b[1;36m10\u001b[0m\u001b[1;33m,\u001b[0m\u001b[0msize\u001b[0m\u001b[1;33m=\u001b[0m\u001b[1;33m(\u001b[0m\u001b[1;36m2\u001b[0m\u001b[1;33m,\u001b[0m\u001b[1;36m2\u001b[0m\u001b[1;33m)\u001b[0m\u001b[1;33m)\u001b[0m\u001b[1;33m\u001b[0m\u001b[1;33m\u001b[0m\u001b[0m\n\u001b[1;32m----> 3\u001b[1;33m \u001b[0md\u001b[0m \u001b[1;33m*\u001b[0m \u001b[0mc\u001b[0m\u001b[1;33m\u001b[0m\u001b[1;33m\u001b[0m\u001b[0m\n\u001b[0m",
      "\u001b[1;31mValueError\u001b[0m: operands could not be broadcast together with shapes (2,2) (2,2,3) "
     ]
    }
   ],
   "source": [
    "c = np.random.randint(low=1,high=10,size=(2,2,3))\n",
    "d = np.random.randint(low=1,high=10,size=(2,2))\n",
    "d * c"
   ]
  },
  {
   "cell_type": "markdown",
   "id": "fe41b538",
   "metadata": {},
   "source": [
    "Como vemos obtenemos el error de broadcasting entre estas dimensiones. Esto puede resultar poco intuitivo ya que tenemos un array muy similar, pero la regla es que deben coincidir las dimensiones finales (por la derecha), o ser 1. Si tuviésemos:"
   ]
  },
  {
   "cell_type": "code",
   "execution_count": 5,
   "id": "8c9c8103",
   "metadata": {},
   "outputs": [
    {
     "data": {
      "text/plain": [
       "array([[[ 6,  2,  9],\n",
       "        [21,  7, 35]],\n",
       "\n",
       "       [[14, 14, 12],\n",
       "        [ 2,  6, 16]]])"
      ]
     },
     "execution_count": 5,
     "metadata": {},
     "output_type": "execute_result"
    }
   ],
   "source": [
    "c = np.random.randint(low=1,high=10,size=(2,2,3))\n",
    "d = np.random.randint(low=1,high=10,size=(2,2,1))\n",
    "d * c"
   ]
  },
  {
   "cell_type": "markdown",
   "id": "b3235a66",
   "metadata": {},
   "source": [
    "Ahora si que podemos hacerlo porque tenemos la tercera dimensión 1. Esto nos permite operar con arrays de formas muy dispares como:\n",
    "\n",
    "` e = (3,6,5,1,7)\n",
    " f =   (6,1,4,7)`\n",
    "\n",
    "resultado -> array dim(6,5,4,7)\n",
    "\n",
    "Ya que vemos que las dimensiones finales o coinciden o donde no coinciden hay un 1."
   ]
  },
  {
   "cell_type": "code",
   "execution_count": 6,
   "id": "dfffa79f",
   "metadata": {},
   "outputs": [
    {
     "data": {
      "text/plain": [
       "array([[[[[32, 64,  8, ..., 21, 14, 40],\n",
       "          [32, 16, 56, ..., 28,  2,  8],\n",
       "          [ 8, 24, 48, ..., 35, 14, 40],\n",
       "          [40, 32,  8, ..., 42, 14, 24]],\n",
       "\n",
       "         [[32, 24,  9, ..., 12, 49, 25],\n",
       "          [32,  6, 63, ..., 16,  7,  5],\n",
       "          [ 8,  9, 54, ..., 20, 49, 25],\n",
       "          [40, 12,  9, ..., 24, 49, 15]],\n",
       "\n",
       "         [[28,  8,  7, ..., 27, 63, 10],\n",
       "          [28,  2, 49, ..., 36,  9,  2],\n",
       "          [ 7,  3, 42, ..., 45, 63, 10],\n",
       "          [35,  4,  7, ..., 54, 63,  6]],\n",
       "\n",
       "         [[36, 32,  3, ..., 12, 42, 35],\n",
       "          [36,  8, 21, ..., 16,  6,  7],\n",
       "          [ 9, 12, 18, ..., 20, 42, 35],\n",
       "          [45, 16,  3, ..., 24, 42, 21]],\n",
       "\n",
       "         [[ 8, 72,  5, ...,  6,  7, 45],\n",
       "          [ 8, 18, 35, ...,  8,  1,  9],\n",
       "          [ 2, 27, 30, ..., 10,  7, 45],\n",
       "          [10, 36,  5, ..., 12,  7, 27]]],\n",
       "\n",
       "\n",
       "        [[[ 8, 25, 35, ..., 18, 32, 81],\n",
       "          [24, 45, 28, ..., 81, 72, 27],\n",
       "          [16,  5, 56, ..., 36, 32, 81],\n",
       "          [28,  5, 49, ..., 18, 32,  9]],\n",
       "\n",
       "         [[ 6, 10, 20, ..., 10, 24,  9],\n",
       "          [18, 18, 16, ..., 45, 54,  3],\n",
       "          [12,  2, 32, ..., 20, 24,  9],\n",
       "          [21,  2, 28, ..., 10, 24,  1]],\n",
       "\n",
       "         [[ 6, 35, 15, ...,  6, 32, 72],\n",
       "          [18, 63, 12, ..., 27, 72, 24],\n",
       "          [12,  7, 24, ..., 12, 32, 72],\n",
       "          [21,  7, 21, ...,  6, 32,  8]],\n",
       "\n",
       "         [[ 6, 10, 15, ...,  4,  8,  9],\n",
       "          [18, 18, 12, ..., 18, 18,  3],\n",
       "          [12,  2, 24, ...,  8,  8,  9],\n",
       "          [21,  2, 21, ...,  4,  8,  1]],\n",
       "\n",
       "         [[18, 15, 15, ...,  4, 24,  9],\n",
       "          [54, 27, 12, ..., 18, 54,  3],\n",
       "          [36,  3, 24, ...,  8, 24,  9],\n",
       "          [63,  3, 21, ...,  4, 24,  1]]],\n",
       "\n",
       "\n",
       "        [[[27, 27, 30, ...,  6, 24,  5],\n",
       "          [ 9, 18, 20, ...,  9, 30,  4],\n",
       "          [ 3, 54, 25, ..., 27, 48,  6],\n",
       "          [27, 63, 10, ..., 12, 36,  7]],\n",
       "\n",
       "         [[36, 12, 12, ...,  2, 16, 30],\n",
       "          [12,  8,  8, ...,  3, 20, 24],\n",
       "          [ 4, 24, 10, ...,  9, 32, 36],\n",
       "          [36, 28,  4, ...,  4, 24, 42]],\n",
       "\n",
       "         [[45, 15, 24, ..., 16, 16, 10],\n",
       "          [15, 10, 16, ..., 24, 20,  8],\n",
       "          [ 5, 30, 20, ..., 72, 32, 12],\n",
       "          [45, 35,  8, ..., 32, 24, 14]],\n",
       "\n",
       "         [[54, 21, 42, ..., 10, 28, 25],\n",
       "          [18, 14, 28, ..., 15, 35, 20],\n",
       "          [ 6, 42, 35, ..., 45, 56, 30],\n",
       "          [54, 49, 14, ..., 20, 42, 35]],\n",
       "\n",
       "         [[54, 21, 30, ..., 18, 28, 25],\n",
       "          [18, 14, 20, ..., 27, 35, 20],\n",
       "          [ 6, 42, 25, ..., 81, 56, 30],\n",
       "          [54, 49, 10, ..., 36, 42, 35]]],\n",
       "\n",
       "\n",
       "        [[[14, 28, 28, ..., 18, 24, 24],\n",
       "          [ 8, 14, 12, ...,  9, 15, 32],\n",
       "          [ 8, 21, 20, ..., 72, 27, 72],\n",
       "          [14, 63,  4, ..., 27, 24, 16]],\n",
       "\n",
       "         [[ 7, 24, 28, ..., 12, 64, 15],\n",
       "          [ 4, 12, 12, ...,  6, 40, 20],\n",
       "          [ 4, 18, 20, ..., 48, 72, 45],\n",
       "          [ 7, 54,  4, ..., 18, 64, 10]],\n",
       "\n",
       "         [[ 7,  4, 56, ..., 14, 16, 18],\n",
       "          [ 4,  2, 24, ...,  7, 10, 24],\n",
       "          [ 4,  3, 40, ..., 56, 18, 54],\n",
       "          [ 7,  9,  8, ..., 21, 16, 12]],\n",
       "\n",
       "         [[63,  4, 56, ...,  8, 40, 18],\n",
       "          [36,  2, 24, ...,  4, 25, 24],\n",
       "          [36,  3, 40, ..., 32, 45, 54],\n",
       "          [63,  9,  8, ..., 12, 40, 12]],\n",
       "\n",
       "         [[56, 28, 56, ..., 16, 72, 24],\n",
       "          [32, 14, 24, ...,  8, 45, 32],\n",
       "          [32, 21, 40, ..., 64, 81, 72],\n",
       "          [56, 63,  8, ..., 24, 72, 16]]],\n",
       "\n",
       "\n",
       "        [[[35, 14, 16, ..., 14, 16,  7],\n",
       "          [15,  8,  8, ...,  8, 40, 56],\n",
       "          [15,  2, 56, ..., 16, 72, 56],\n",
       "          [45, 18, 48, ...,  2, 64,  7]],\n",
       "\n",
       "         [[14,  7, 18, ..., 14,  2,  5],\n",
       "          [ 6,  4,  9, ...,  8,  5, 40],\n",
       "          [ 6,  1, 63, ..., 16,  9, 40],\n",
       "          [18,  9, 54, ...,  2,  8,  5]],\n",
       "\n",
       "         [[42, 56, 16, ..., 28,  4,  9],\n",
       "          [18, 32,  8, ..., 16, 10, 72],\n",
       "          [18,  8, 56, ..., 32, 18, 72],\n",
       "          [54, 72, 48, ...,  4, 16,  9]],\n",
       "\n",
       "         [[56, 42, 18, ...,  7, 18,  6],\n",
       "          [24, 24,  9, ...,  4, 45, 48],\n",
       "          [24,  6, 63, ...,  8, 81, 48],\n",
       "          [72, 54, 54, ...,  1, 72,  6]],\n",
       "\n",
       "         [[49, 21,  6, ..., 21,  8,  9],\n",
       "          [21, 12,  3, ..., 12, 20, 72],\n",
       "          [21,  3, 21, ..., 24, 36, 72],\n",
       "          [63, 27, 18, ...,  3, 32,  9]]],\n",
       "\n",
       "\n",
       "        [[[18, 20,  2, ...,  9, 36, 12],\n",
       "          [36, 35,  6, ...,  9, 32, 54],\n",
       "          [72, 35,  2, ..., 18, 20, 36],\n",
       "          [ 9, 30, 18, ..., 27, 16, 48]],\n",
       "\n",
       "         [[12, 32,  5, ..., 18, 63, 12],\n",
       "          [24, 56, 15, ..., 18, 56, 54],\n",
       "          [48, 56,  5, ..., 36, 35, 36],\n",
       "          [ 6, 48, 45, ..., 54, 28, 48]],\n",
       "\n",
       "         [[ 4, 32,  4, ..., 24, 72, 16],\n",
       "          [ 8, 56, 12, ..., 24, 64, 72],\n",
       "          [16, 56,  4, ..., 48, 40, 48],\n",
       "          [ 2, 48, 36, ..., 72, 32, 64]],\n",
       "\n",
       "         [[ 4, 32,  7, ...,  6, 72,  2],\n",
       "          [ 8, 56, 21, ...,  6, 64,  9],\n",
       "          [16, 56,  7, ..., 12, 40,  6],\n",
       "          [ 2, 48, 63, ..., 18, 32,  8]],\n",
       "\n",
       "         [[12, 28,  2, ..., 24,  9,  4],\n",
       "          [24, 49,  6, ..., 24,  8, 18],\n",
       "          [48, 49,  2, ..., 48,  5, 12],\n",
       "          [ 6, 42, 18, ..., 72,  4, 16]]]],\n",
       "\n",
       "\n",
       "\n",
       "       [[[[28, 56,  4, ..., 15,  7, 25],\n",
       "          [28, 14, 28, ..., 20,  1,  5],\n",
       "          [ 7, 21, 24, ..., 25,  7, 25],\n",
       "          [35, 28,  4, ..., 30,  7, 15]],\n",
       "\n",
       "         [[32,  8,  2, ..., 18, 63, 40],\n",
       "          [32,  2, 14, ..., 24,  9,  8],\n",
       "          [ 8,  3, 12, ..., 30, 63, 40],\n",
       "          [40,  4,  2, ..., 36, 63, 24]],\n",
       "\n",
       "         [[20,  8,  2, ..., 18, 56, 45],\n",
       "          [20,  2, 14, ..., 24,  8,  9],\n",
       "          [ 5,  3, 12, ..., 30, 56, 45],\n",
       "          [25,  4,  2, ..., 36, 56, 27]],\n",
       "\n",
       "         [[12,  8,  7, ...,  9,  7, 30],\n",
       "          [12,  2, 49, ..., 12,  1,  6],\n",
       "          [ 3,  3, 42, ..., 15,  7, 30],\n",
       "          [15,  4,  7, ..., 18,  7, 18]],\n",
       "\n",
       "         [[20, 72,  2, ..., 27, 28, 40],\n",
       "          [20, 18, 14, ..., 36,  4,  8],\n",
       "          [ 5, 27, 12, ..., 45, 28, 40],\n",
       "          [25, 36,  2, ..., 54, 28, 24]]],\n",
       "\n",
       "\n",
       "        [[[12, 10, 30, ..., 14,  8, 18],\n",
       "          [36, 18, 24, ..., 63, 18,  6],\n",
       "          [24,  2, 48, ..., 28,  8, 18],\n",
       "          [42,  2, 42, ..., 14,  8,  2]],\n",
       "\n",
       "         [[16, 20, 20, ..., 18, 28, 18],\n",
       "          [48, 36, 16, ..., 81, 63,  6],\n",
       "          [32,  4, 32, ..., 36, 28, 18],\n",
       "          [56,  4, 28, ..., 18, 28,  2]],\n",
       "\n",
       "         [[16, 15, 15, ...,  4, 20, 36],\n",
       "          [48, 27, 12, ..., 18, 45, 12],\n",
       "          [32,  3, 24, ...,  8, 20, 36],\n",
       "          [56,  3, 21, ...,  4, 20,  4]],\n",
       "\n",
       "         [[10, 20, 35, ..., 18,  4, 18],\n",
       "          [30, 36, 28, ..., 81,  9,  6],\n",
       "          [20,  4, 56, ..., 36,  4, 18],\n",
       "          [35,  4, 49, ..., 18,  4,  2]],\n",
       "\n",
       "         [[16, 10, 30, ..., 12, 36, 18],\n",
       "          [48, 18, 24, ..., 54, 81,  6],\n",
       "          [32,  2, 48, ..., 24, 36, 18],\n",
       "          [56,  2, 42, ..., 12, 36,  2]]],\n",
       "\n",
       "\n",
       "        [[[ 9,  3, 42, ..., 18, 12, 15],\n",
       "          [ 3,  2, 28, ..., 27, 15, 12],\n",
       "          [ 1,  6, 35, ..., 81, 24, 18],\n",
       "          [ 9,  7, 14, ..., 36, 18, 21]],\n",
       "\n",
       "         [[36,  3, 24, ..., 10, 12, 10],\n",
       "          [12,  2, 16, ..., 15, 15,  8],\n",
       "          [ 4,  6, 20, ..., 45, 24, 12],\n",
       "          [36,  7,  8, ..., 20, 18, 14]],\n",
       "\n",
       "         [[18,  6, 42, ...,  6, 16, 35],\n",
       "          [ 6,  4, 28, ...,  9, 20, 28],\n",
       "          [ 2, 12, 35, ..., 27, 32, 42],\n",
       "          [18, 14, 14, ..., 12, 24, 49]],\n",
       "\n",
       "         [[54,  9, 18, ...,  6,  4, 25],\n",
       "          [18,  6, 12, ...,  9,  5, 20],\n",
       "          [ 6, 18, 15, ..., 27,  8, 30],\n",
       "          [54, 21,  6, ..., 12,  6, 35]],\n",
       "\n",
       "         [[36, 24,  6, ...,  8, 20, 35],\n",
       "          [12, 16,  4, ..., 12, 25, 28],\n",
       "          [ 4, 48,  5, ..., 36, 40, 42],\n",
       "          [36, 56,  2, ..., 16, 30, 49]]],\n",
       "\n",
       "\n",
       "        [[[49, 20, 21, ..., 14, 56,  6],\n",
       "          [28, 10,  9, ...,  7, 35,  8],\n",
       "          [28, 15, 15, ..., 56, 63, 18],\n",
       "          [49, 45,  3, ..., 21, 56,  4]],\n",
       "\n",
       "         [[ 7, 28, 35, ..., 18, 16, 24],\n",
       "          [ 4, 14, 15, ...,  9, 10, 32],\n",
       "          [ 4, 21, 25, ..., 72, 18, 72],\n",
       "          [ 7, 63,  5, ..., 27, 16, 16]],\n",
       "\n",
       "         [[ 7, 12, 14, ..., 16, 56, 24],\n",
       "          [ 4,  6,  6, ...,  8, 35, 32],\n",
       "          [ 4,  9, 10, ..., 64, 63, 72],\n",
       "          [ 7, 27,  2, ..., 24, 56, 16]],\n",
       "\n",
       "         [[21,  8,  7, ...,  8, 40, 12],\n",
       "          [12,  4,  3, ...,  4, 25, 16],\n",
       "          [12,  6,  5, ..., 32, 45, 36],\n",
       "          [21, 18,  1, ..., 12, 40,  8]],\n",
       "\n",
       "         [[35,  4, 35, ..., 16, 56, 18],\n",
       "          [20,  2, 15, ...,  8, 35, 24],\n",
       "          [20,  3, 25, ..., 64, 63, 54],\n",
       "          [35,  9,  5, ..., 24, 56, 12]]],\n",
       "\n",
       "\n",
       "        [[[63, 56, 10, ...,  7, 10,  3],\n",
       "          [27, 32,  5, ...,  4, 25, 24],\n",
       "          [27,  8, 35, ...,  8, 45, 24],\n",
       "          [81, 72, 30, ...,  1, 40,  3]],\n",
       "\n",
       "         [[49,  7,  4, ..., 42, 16,  1],\n",
       "          [21,  4,  2, ..., 24, 40,  8],\n",
       "          [21,  1, 14, ..., 48, 72,  8],\n",
       "          [63,  9, 12, ...,  6, 64,  1]],\n",
       "\n",
       "         [[49, 35, 18, ..., 63, 16,  1],\n",
       "          [21, 20,  9, ..., 36, 40,  8],\n",
       "          [21,  5, 63, ..., 72, 72,  8],\n",
       "          [63, 45, 54, ...,  9, 64,  1]],\n",
       "\n",
       "         [[42, 28, 12, ..., 21, 10,  1],\n",
       "          [18, 16,  6, ..., 12, 25,  8],\n",
       "          [18,  4, 42, ..., 24, 45,  8],\n",
       "          [54, 36, 36, ...,  3, 40,  1]],\n",
       "\n",
       "         [[35, 49, 14, ..., 42,  6,  1],\n",
       "          [15, 28,  7, ..., 24, 15,  8],\n",
       "          [15,  7, 49, ..., 48, 27,  8],\n",
       "          [45, 63, 42, ...,  6, 24,  1]]],\n",
       "\n",
       "\n",
       "        [[[ 2,  8,  4, ..., 18,  9,  8],\n",
       "          [ 4, 14, 12, ..., 18,  8, 36],\n",
       "          [ 8, 14,  4, ..., 36,  5, 24],\n",
       "          [ 1, 12, 36, ..., 54,  4, 32]],\n",
       "\n",
       "         [[ 2, 36,  7, ..., 24, 45,  6],\n",
       "          [ 4, 63, 21, ..., 24, 40, 27],\n",
       "          [ 8, 63,  7, ..., 48, 25, 18],\n",
       "          [ 1, 54, 63, ..., 72, 20, 24]],\n",
       "\n",
       "         [[12, 24,  8, ...,  9, 27,  6],\n",
       "          [24, 42, 24, ...,  9, 24, 27],\n",
       "          [48, 42,  8, ..., 18, 15, 18],\n",
       "          [ 6, 36, 72, ..., 27, 12, 24]],\n",
       "\n",
       "         [[ 2,  4,  2, ..., 27, 27, 12],\n",
       "          [ 4,  7,  6, ..., 27, 24, 54],\n",
       "          [ 8,  7,  2, ..., 54, 15, 36],\n",
       "          [ 1,  6, 18, ..., 81, 12, 48]],\n",
       "\n",
       "         [[ 4,  8,  7, ...,  3, 54,  2],\n",
       "          [ 8, 14, 21, ...,  3, 48,  9],\n",
       "          [16, 14,  7, ...,  6, 30,  6],\n",
       "          [ 2, 12, 63, ...,  9, 24,  8]]]],\n",
       "\n",
       "\n",
       "\n",
       "       [[[[16, 72,  6, ..., 15, 63, 10],\n",
       "          [16, 18, 42, ..., 20,  9,  2],\n",
       "          [ 4, 27, 36, ..., 25, 63, 10],\n",
       "          [20, 36,  6, ..., 30, 63,  6]],\n",
       "\n",
       "         [[32, 56,  1, ..., 18, 14,  5],\n",
       "          [32, 14,  7, ..., 24,  2,  1],\n",
       "          [ 8, 21,  6, ..., 30, 14,  5],\n",
       "          [40, 28,  1, ..., 36, 14,  3]],\n",
       "\n",
       "         [[20, 64,  7, ..., 27, 49, 10],\n",
       "          [20, 16, 49, ..., 36,  7,  2],\n",
       "          [ 5, 24, 42, ..., 45, 49, 10],\n",
       "          [25, 32,  7, ..., 54, 49,  6]],\n",
       "\n",
       "         [[28, 16,  9, ...,  6,  7, 15],\n",
       "          [28,  4, 63, ...,  8,  1,  3],\n",
       "          [ 7,  6, 54, ..., 10,  7, 15],\n",
       "          [35,  8,  9, ..., 12,  7,  9]],\n",
       "\n",
       "         [[24, 48,  9, ..., 18, 42, 10],\n",
       "          [24, 12, 63, ..., 24,  6,  2],\n",
       "          [ 6, 18, 54, ..., 30, 42, 10],\n",
       "          [30, 24,  9, ..., 36, 42,  6]]],\n",
       "\n",
       "\n",
       "        [[[18, 15,  5, ...,  2, 12, 54],\n",
       "          [54, 27,  4, ...,  9, 27, 18],\n",
       "          [36,  3,  8, ...,  4, 12, 54],\n",
       "          [63,  3,  7, ...,  2, 12,  6]],\n",
       "\n",
       "         [[18, 40, 35, ..., 16, 16, 54],\n",
       "          [54, 72, 28, ..., 72, 36, 18],\n",
       "          [36,  8, 56, ..., 32, 16, 54],\n",
       "          [63,  8, 49, ..., 16, 16,  6]],\n",
       "\n",
       "         [[16,  5, 45, ..., 14, 24, 54],\n",
       "          [48,  9, 36, ..., 63, 54, 18],\n",
       "          [32,  1, 72, ..., 28, 24, 54],\n",
       "          [56,  1, 63, ..., 14, 24,  6]],\n",
       "\n",
       "         [[16, 35, 30, ...,  8, 16,  9],\n",
       "          [48, 63, 24, ..., 36, 36,  3],\n",
       "          [32,  7, 48, ..., 16, 16,  9],\n",
       "          [56,  7, 42, ...,  8, 16,  1]],\n",
       "\n",
       "         [[ 8, 35, 10, ..., 14,  4, 63],\n",
       "          [24, 63,  8, ..., 63,  9, 21],\n",
       "          [16,  7, 16, ..., 28,  4, 63],\n",
       "          [28,  7, 14, ..., 14,  4,  7]]],\n",
       "\n",
       "\n",
       "        [[[45,  3, 24, ..., 12, 32, 20],\n",
       "          [15,  2, 16, ..., 18, 40, 16],\n",
       "          [ 5,  6, 20, ..., 54, 64, 24],\n",
       "          [45,  7,  8, ..., 24, 48, 28]],\n",
       "\n",
       "         [[63, 21, 42, ...,  4, 16, 25],\n",
       "          [21, 14, 28, ...,  6, 20, 20],\n",
       "          [ 7, 42, 35, ..., 18, 32, 30],\n",
       "          [63, 49, 14, ...,  8, 24, 35]],\n",
       "\n",
       "         [[ 9, 12,  6, ...,  8, 12, 10],\n",
       "          [ 3,  8,  4, ..., 12, 15,  8],\n",
       "          [ 1, 24,  5, ..., 36, 24, 12],\n",
       "          [ 9, 28,  2, ..., 16, 18, 14]],\n",
       "\n",
       "         [[54, 24, 24, ..., 12,  4,  5],\n",
       "          [18, 16, 16, ..., 18,  5,  4],\n",
       "          [ 6, 48, 20, ..., 54,  8,  6],\n",
       "          [54, 56,  8, ..., 24,  6,  7]],\n",
       "\n",
       "         [[72,  6, 24, ...,  2, 24, 35],\n",
       "          [24,  4, 16, ...,  3, 30, 28],\n",
       "          [ 8, 12, 20, ...,  9, 48, 42],\n",
       "          [72, 14,  8, ...,  4, 36, 49]]],\n",
       "\n",
       "\n",
       "        [[[21, 28, 21, ..., 18, 64, 12],\n",
       "          [12, 14,  9, ...,  9, 40, 16],\n",
       "          [12, 21, 15, ..., 72, 72, 36],\n",
       "          [21, 63,  3, ..., 27, 64,  8]],\n",
       "\n",
       "         [[35,  4, 49, ..., 10,  8,  3],\n",
       "          [20,  2, 21, ...,  5,  5,  4],\n",
       "          [20,  3, 35, ..., 40,  9,  9],\n",
       "          [35,  9,  7, ..., 15,  8,  2]],\n",
       "\n",
       "         [[21, 12, 56, ...,  4, 48,  3],\n",
       "          [12,  6, 24, ...,  2, 30,  4],\n",
       "          [12,  9, 40, ..., 16, 54,  9],\n",
       "          [21, 27,  8, ...,  6, 48,  2]],\n",
       "\n",
       "         [[63, 24,  7, ...,  2, 32,  3],\n",
       "          [36, 12,  3, ...,  1, 20,  4],\n",
       "          [36, 18,  5, ...,  8, 36,  9],\n",
       "          [63, 54,  1, ...,  3, 32,  2]],\n",
       "\n",
       "         [[35, 28,  7, ..., 16, 40, 24],\n",
       "          [20, 14,  3, ...,  8, 25, 32],\n",
       "          [20, 21,  5, ..., 64, 45, 72],\n",
       "          [35, 63,  1, ..., 24, 40, 16]]],\n",
       "\n",
       "\n",
       "        [[[42, 21, 18, ..., 21, 18,  6],\n",
       "          [18, 12,  9, ..., 12, 45, 48],\n",
       "          [18,  3, 63, ..., 24, 81, 48],\n",
       "          [54, 27, 54, ...,  3, 72,  6]],\n",
       "\n",
       "         [[56, 35, 12, ..., 35,  4,  7],\n",
       "          [24, 20,  6, ..., 20, 10, 56],\n",
       "          [24,  5, 42, ..., 40, 18, 56],\n",
       "          [72, 45, 36, ...,  5, 16,  7]],\n",
       "\n",
       "         [[63, 49, 14, ..., 14,  6,  7],\n",
       "          [27, 28,  7, ...,  8, 15, 56],\n",
       "          [27,  7, 49, ..., 16, 27, 56],\n",
       "          [81, 63, 42, ...,  2, 24,  7]],\n",
       "\n",
       "         [[ 7, 35, 14, ..., 28,  8,  6],\n",
       "          [ 3, 20,  7, ..., 16, 20, 48],\n",
       "          [ 3,  5, 49, ..., 32, 36, 48],\n",
       "          [ 9, 45, 42, ...,  4, 32,  6]],\n",
       "\n",
       "         [[49, 35,  8, ..., 63, 18,  6],\n",
       "          [21, 20,  4, ..., 36, 45, 48],\n",
       "          [21,  5, 28, ..., 72, 81, 48],\n",
       "          [63, 45, 24, ...,  9, 72,  6]]],\n",
       "\n",
       "\n",
       "        [[[ 6, 28,  4, ..., 15, 45, 14],\n",
       "          [12, 49, 12, ..., 15, 40, 63],\n",
       "          [24, 49,  4, ..., 30, 25, 42],\n",
       "          [ 3, 42, 36, ..., 45, 20, 56]],\n",
       "\n",
       "         [[10, 20,  9, ..., 12, 54, 12],\n",
       "          [20, 35, 27, ..., 12, 48, 54],\n",
       "          [40, 35,  9, ..., 24, 30, 36],\n",
       "          [ 5, 30, 81, ..., 36, 24, 48]],\n",
       "\n",
       "         [[18, 32,  9, ..., 18, 54, 14],\n",
       "          [36, 56, 27, ..., 18, 48, 63],\n",
       "          [72, 56,  9, ..., 36, 30, 42],\n",
       "          [ 9, 48, 81, ..., 54, 24, 56]],\n",
       "\n",
       "         [[14, 12,  5, ..., 15, 27, 14],\n",
       "          [28, 21, 15, ..., 15, 24, 63],\n",
       "          [56, 21,  5, ..., 30, 15, 42],\n",
       "          [ 7, 18, 45, ..., 45, 12, 56]],\n",
       "\n",
       "         [[18, 28,  9, ..., 27, 36, 10],\n",
       "          [36, 49, 27, ..., 27, 32, 45],\n",
       "          [72, 49,  9, ..., 54, 20, 30],\n",
       "          [ 9, 42, 81, ..., 81, 16, 40]]]]])"
      ]
     },
     "execution_count": 6,
     "metadata": {},
     "output_type": "execute_result"
    }
   ],
   "source": [
    "c = np.random.randint(low=1,high=10,size=(3,6,5,1,7))\n",
    "d = np.random.randint(low=1,high=10,size=(6,1,4,7))\n",
    "d * c"
   ]
  },
  {
   "cell_type": "markdown",
   "id": "d7dc5593",
   "metadata": {},
   "source": [
    "Con estos ejemplos podemos ver claramente en que ocasiones podemos echar mano del bradcasting para operar entre arrays de distintas dimensiones y cuáles son las limitaciones que tenemos. Decir que he empleado la multiplicación, pero es aplicable al resto de operadores."
   ]
  },
  {
   "cell_type": "markdown",
   "id": "c29eba32",
   "metadata": {},
   "source": [
    "# Memory mapping\n",
    "\n",
    "**También se introduce el trabajo con ficheros usando memoria mapeada.**\n",
    "\n",
    "**Actividad 01.02 - Verificar la eficacia y mejora posible de rendimiento del uso de dicha técnica sobre ndarrays de tamaños grandes.**"
   ]
  },
  {
   "cell_type": "markdown",
   "id": "1b05372e",
   "metadata": {},
   "source": [
    "En general los archivos mapeados en memoria proporcionan un mecanismo para que un proceso acceda a estos incorporando directamente los datos del mismo en el espacio de direcciones del proceso. Esto puede reducir significativamente el movimiento de datos, ya que los archivos no han de copiarse en búferes de datos del proceso. Además, cuando más de un proceso mapea el mismo archivo, los contenidos se comparten entre ellos de modo que las regiones de memoria mapeada sirven para intercambiar datos entre ellos.\n",
    "\n",
    "En el caso de NumPy, las arrays mapeadas en memoria poseen la misma interfaz que cualquier otra. Para hacer uso de esta técnica empleamos el método **memmap**. Veamos un ejemplo:"
   ]
  },
  {
   "cell_type": "markdown",
   "id": "e8fe4852",
   "metadata": {},
   "source": [
    "Creamos el array inicial, vacío, esto no contiene datos pero ya crea un archivo en nuestro directorio de trabajo."
   ]
  },
  {
   "cell_type": "code",
   "execution_count": 7,
   "id": "254b694f",
   "metadata": {},
   "outputs": [],
   "source": [
    "a = np.memmap(\"memmap_array.dat\", dtype=np.float32, mode=\"w+\", shape=(1000,1000))"
   ]
  },
  {
   "cell_type": "markdown",
   "id": "74ab9e97",
   "metadata": {},
   "source": [
    "Ahora podemos asignar valores aleatorios a nuestro array, esto llena el archivo."
   ]
  },
  {
   "cell_type": "code",
   "execution_count": 8,
   "id": "4d715fc2",
   "metadata": {},
   "outputs": [
    {
     "data": {
      "text/plain": [
       "memmap([[0.91677284, 0.15255958, 0.51872706, ..., 0.43141705, 0.37831804,\n",
       "         0.4944074 ],\n",
       "        [0.916267  , 0.4093709 , 0.323286  , ..., 0.79335165, 0.72298396,\n",
       "         0.57794434],\n",
       "        [0.98423177, 0.7301213 , 0.48469272, ..., 0.11599375, 0.8226113 ,\n",
       "         0.1345069 ],\n",
       "        ...,\n",
       "        [0.84471554, 0.221938  , 0.31719226, ..., 0.37937158, 0.29242367,\n",
       "         0.7217762 ],\n",
       "        [0.6019815 , 0.34193718, 0.15841645, ..., 0.41270277, 0.968449  ,\n",
       "         0.08948222],\n",
       "        [0.05232425, 0.51544625, 0.7041866 , ..., 0.7352469 , 0.28613192,\n",
       "         0.56419766]], dtype=float32)"
      ]
     },
     "execution_count": 8,
     "metadata": {},
     "output_type": "execute_result"
    }
   ],
   "source": [
    "a[:] = np.random.rand(1000,1000)[:]\n",
    "a"
   ]
  },
  {
   "cell_type": "markdown",
   "id": "60a21602",
   "metadata": {},
   "source": [
    "Debemos hacer un delete para que haga el flush de todos los datos a memoria antes de borrar la variable"
   ]
  },
  {
   "cell_type": "code",
   "execution_count": 9,
   "id": "09fcb141",
   "metadata": {},
   "outputs": [],
   "source": [
    "del a"
   ]
  },
  {
   "cell_type": "markdown",
   "id": "f4404a40",
   "metadata": {},
   "source": [
    "Obiamente hemos borrado a, luego ya no está definida. Sin embargo, tenemos los datos en disco y podemos recuperarlos con la misma función en modo lectura:"
   ]
  },
  {
   "cell_type": "code",
   "execution_count": 10,
   "id": "f85d345b",
   "metadata": {},
   "outputs": [
    {
     "data": {
      "text/plain": [
       "memmap([[0.91677284, 0.15255958, 0.51872706, ..., 0.43141705, 0.37831804,\n",
       "         0.4944074 ],\n",
       "        [0.916267  , 0.4093709 , 0.323286  , ..., 0.79335165, 0.72298396,\n",
       "         0.57794434],\n",
       "        [0.98423177, 0.7301213 , 0.48469272, ..., 0.11599375, 0.8226113 ,\n",
       "         0.1345069 ],\n",
       "        ...,\n",
       "        [0.84471554, 0.221938  , 0.31719226, ..., 0.37937158, 0.29242367,\n",
       "         0.7217762 ],\n",
       "        [0.6019815 , 0.34193718, 0.15841645, ..., 0.41270277, 0.968449  ,\n",
       "         0.08948222],\n",
       "        [0.05232425, 0.51544625, 0.7041866 , ..., 0.7352469 , 0.28613192,\n",
       "         0.56419766]], dtype=float32)"
      ]
     },
     "execution_count": 10,
     "metadata": {},
     "output_type": "execute_result"
    }
   ],
   "source": [
    "new_a = np.memmap(\"memmap_array.dat\", dtype=np.float32, mode=\"r+\", shape=(1000,1000))\n",
    "new_a"
   ]
  },
  {
   "cell_type": "markdown",
   "id": "7a301f71",
   "metadata": {},
   "source": [
    "Observamos como efectivamente hemos recuperado los mismos valores aleatorios. Esto es claramente muy útil cuando debamos trabajar con arrays muy grandes que ocupen gran parte nuestra memoria o incluso no entren en ella."
   ]
  },
  {
   "cell_type": "markdown",
   "id": "c2f6a0c8",
   "metadata": {},
   "source": [
    "Probemos a hacer  operaciones con arrays grandes y medir tanto su uso de memoria como el tiempo empleado en realizar las operaciones:"
   ]
  },
  {
   "cell_type": "code",
   "execution_count": 12,
   "id": "2d630666",
   "metadata": {},
   "outputs": [
    {
     "name": "stdout",
     "output_type": "stream",
     "text": [
      "MB ocupados: 2204.895133972168\n"
     ]
    }
   ],
   "source": [
    "import sys\n",
    "import time\n",
    "# Vamos a crear un array grande de valores aleatorios\n",
    "size = (17000,17000)\n",
    "m = np.memmap(\"memmap_array_2.dat\", dtype=np.float64, mode=\"w+\", shape=size)\n",
    "x = np.random.random(size=size)\n",
    "print(f\"MB ocupados: {sys.getsizeof(x)/1048576}\") # El método getsizeof devuelve el tamaño en bytes\n",
    "# Asignamos los valores aleatorios a nuestra array mapeada en memoria y la volcamos\n",
    "m[:] = x[:]"
   ]
  },
  {
   "cell_type": "markdown",
   "id": "67f7cffc",
   "metadata": {},
   "source": [
    "Vemos que una matriz de este tamaño ya ocupa sobre 2 GB. Como hemos creado 2 mi memoria RAM tiene un pico de 4.4 GB. Probemos a hacer alguna operación con x y con m. Contienen la misma información pero x está entera en nuestra RAM mientras que m la podemos borrar y leer por bloques del disco:"
   ]
  },
  {
   "cell_type": "code",
   "execution_count": 13,
   "id": "75fe91ee",
   "metadata": {},
   "outputs": [
    {
     "name": "stdout",
     "output_type": "stream",
     "text": [
      "0.5000044047222755 Tiempo total con x en RAM: 0.52s \n"
     ]
    }
   ],
   "source": [
    "start = time.time()\n",
    "xs = [x[i].mean() for i in range(size[0])]\n",
    "fin = time.time() - start\n",
    "\n",
    "print(np.mean(xs), 'Tiempo total con x en RAM: %.2fs ' % (fin))\n",
    "del x # Monitorizando la memoria del ordenador puedo ver como al borrar x se liberan unos 2GB de memoria RAM\n",
    "del m"
   ]
  },
  {
   "cell_type": "markdown",
   "id": "897069d2",
   "metadata": {},
   "source": [
    "Ya se han liberado los 4.4 GB que habíamos ocupado anteriormente."
   ]
  },
  {
   "cell_type": "code",
   "execution_count": 14,
   "id": "6a489369",
   "metadata": {},
   "outputs": [
    {
     "name": "stdout",
     "output_type": "stream",
     "text": [
      "0.5000044047222755 Tiempo total con m en disco: 1.55s \n"
     ]
    }
   ],
   "source": [
    "m_memmap = np.memmap(\"memmap_array_2.dat\", dtype=np.float64, mode='r', shape=size)\n",
    "\n",
    "# En este caso solo traemos un bloque de memoria a la vez\n",
    "start = time.time()\n",
    "xs = [m_memmap[i].mean() for i in range(size[0])]\n",
    "fin = time.time() - start\n",
    "\n",
    "print(np.mean(xs), 'Tiempo total con m en disco: %.2fs ' % (fin)) # La media coincide obviamente"
   ]
  },
  {
   "cell_type": "markdown",
   "id": "4e6279ca",
   "metadata": {},
   "source": [
    "Podemos ver como es más lento (3 veces más en este caso) ya que debemos ir a buscar los datos al disco en vez de leerlos directamente de la RAM. También he observado que los 2.2GB vuelven a almacenarse en RAM, ya que Windows 10 almacenará los datos ahí mientras estos entren. Si nos pasamos irá liberando esa memoria RAM ya que tenemos la info en el disco. De modo que, aunque memmap nos permitiría trabajar con arrays de mayor tamaño que la memoria de nuestro ordenador, no tiene mucho sentido usarlo para arrays pequeñas o mientras no veamos como un problema la falta de memoria.\n",
    "\n",
    "Esto es algo a tener muy en cuenta es si pretendemos emplear este tipo de técnicas en producción durante algún tipo de microservicio, API, etc. ya que para este tipo de aplicaciones las latencias son muy importantes. Imaginemos que queremos construir un sistema de recomendación que debe consultar u operar matrices de numpy de gran tamaño, si bien es cierto que el mapeado en memoria nos permitiría trabajar cómodamente con estas matrices grandes, también vemos que añade un importante tiempo de lectura y operación, lo cual podría afectar seriamente a nuestro servicio. Para este tipo de aplicaciones deberíamos de recurrir a otro tipo de tecnologías de big data como Apache Spark que nos permita distribuir la carga de trabajo.\n",
    "\n",
    "En conclusión, esta es una herramienta muy útil a la hora de trabajar con grandes arrays y probablemente sea muy apropiada en entornos de desarrollo o investigación con grandes volúmenes de datos (por ejemplo en ciencia). Sin embargo tiene sus contraindicaciones en cuanto al tiempo de lectura, lo que puede hacer de su uso una pega en otras aplicaciones."
   ]
  },
  {
   "cell_type": "markdown",
   "id": "f62eca51",
   "metadata": {},
   "source": [
    "## Artículo 02\n",
    "\n",
    "### Data Structures for Statistical Computing in Python\n",
    "McKinney, W. (2010). Data Structures for Statistical Computing in Python.\n",
    "Proceedings of the 9th Python in Science Conference, December, 56-61."
   ]
  },
  {
   "cell_type": "markdown",
   "id": "15185d80",
   "metadata": {},
   "source": [
    "# Pandas\n",
    "**Actividad 02.01 - Desarrollar una opinión razonada del estado actual de las herramientas de análisis de datos estadísticos en contraposición a como se muestran en el artículo, R vs Python vs SQL vs Others...**"
   ]
  },
  {
   "cell_type": "markdown",
   "id": "a6ac9501",
   "metadata": {},
   "source": [
    "Bueno, lo primero que debemos observar es que el artículo fue escrito en 2010, el mismo año que se presentó el iPhone 4 y Windows 7 era el OS de Microsoft más reciente, habiéndose lanzado un año antes. Con este contexto en mente vemos que el paper constituye una presentación de Pandas como una herramienta para el análisis de datos estadísticos que aprovecha NumPy y extiende sus funcionalidades. Vemos como hay grandes referencias a R, como a la hora de elegir nombres para los objetos DataFrame y que ya en las primeras versiones obteníamos mejoras y nuevas features respecto a este. \n",
    "\n",
    "Tal y como comenta en el artículo, hace una década todavía R o MATLAB eran la opción por defecto para el análisis estadístico, Python fue ganando adopción por parte de los desarrolladores y analistas de datos con la aparición de nuevas herramientas como NumPy y adaptaciones de otros frameworks como Matplotlib. Es curioso que R sea un lenguaje más nuevo que Python y que sin embargo fuese la opción por defecto por muchos años hasta que este recibió este tipo de atención por parte de la comunidad. Al ser ambos lenguajes de código abierto supongo que dependen en gran medida de las \"modas\" y los intereses de la comunidad que los respalda. MATLAB por ejemplo aparte de ser más viejo sigue los intereses económicos de Mathworks y lo que sus clientes demandan. \n",
    "\n",
    "Una de las razones por las que creo que Python, Pandas, NumPy... y en general todo este stack de herramientas dedicadas al análisis estadístico de datos han tomado tanta fuerza y se han impuesto a sus predecesoras es su simplicidad. Python es uno de los lenguajes más sencillos de aprender y además es muy polivalente, hoy en día puedes usarlo para casi cualquier cosa, desde seguridad informática o desarrollo de aplicaciones web hasta el campo que nos interesa, el análisis de datos y el aprendizaje automático. Esto de la mano de la enorme comunidad que ha ido construyendo y se muestra activa en foros dando soporte hace que la situación haya dado un cambio radical respecto a lo expuesto en el artículo. Este crecimiento en popularidad lo podemos ver fácilmente en índices como TIOBE O PYPL: \n",
    "\n",
    "* https://www.tiobe.com/tiobe-index/ \n",
    "\n",
    "* https://pypl.github.io/PYPL.html \n",
    "\n",
    "Donde a fecha de hoy Python se coloca en primer puesto en ambos. Y esto no es simplemente por su uso en ciencia de datos sino por el gran número de usuarios que tiene para sus distintos propósitos. \n",
    "\n",
    "Relacionarlo con otras herramientas ya es algo más complicado ya que por así decirlo no son \"competidores directos\". Por ejemplo, aunque es verdad que con Pandas podemos realizar transformaciones y consultas equivalentes a sentencias SQL, este lenguaje no puede ser sustituido enteramente por estas herramientas. Como hablábamos antes sobre NumPy, aplica algo similar para Pandas, podemos realizar la mayoría de trabajos con Pandas y NumPy cuando estamos en un entorno de desarrollo, investigación, académico... Pero cuando llega la hora de plasmar todo en un sistema productivo, o un resultado final, es muy probable que acabemos necesitando de sistemas más fiables para almacenar y consultar nuestros datos, en cuyo caso acabaremos usando SQL muy probablemente. La parte positiva es que es muy sencillo integrar nuestros códigos y herramientas de Python en los sistemas de ETL de cualquier tipo. Un conector a una base de datos SQL o un índice de ElasticSearch toma unas pocas líneas y nos permite ejecutar queries y traernos datos para trabajar con Pandas en nuestros scripts de Python con mucha facilidad.\n",
    "\n",
    "Podemos concluir que esta compatibilidad y versatilidad es lo que ha conseguido que se imponga como herramienta principal en el sector, y que Wes McKinney estaba muy en lo cierto al vaticinar que en los años venideros muchos usuarios iban a ser atraídos al stack científico de Python. \n",
    "\n",
    " "
   ]
  },
  {
   "cell_type": "code",
   "execution_count": null,
   "id": "a19426dd",
   "metadata": {},
   "outputs": [],
   "source": []
  }
 ],
 "metadata": {
  "kernelspec": {
   "display_name": "Python 3 (ipykernel)",
   "language": "python",
   "name": "python3"
  },
  "language_info": {
   "codemirror_mode": {
    "name": "ipython",
    "version": 3
   },
   "file_extension": ".py",
   "mimetype": "text/x-python",
   "name": "python",
   "nbconvert_exporter": "python",
   "pygments_lexer": "ipython3",
   "version": "3.7.11"
  }
 },
 "nbformat": 4,
 "nbformat_minor": 5
}
